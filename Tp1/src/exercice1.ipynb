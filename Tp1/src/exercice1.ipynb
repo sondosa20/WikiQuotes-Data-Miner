{
 "cells": [
  {
   "cell_type": "code",
   "execution_count": 4,
   "id": "e2b31b1c-d8b2-4adf-be8d-a3524a60ec12",
   "metadata": {},
   "outputs": [],
   "source": [
    "import requests\n",
    "from bs4 import BeautifulSoup\n",
    "import pandas as pd\n",
    "import dateparser\n",
    "import matplotlib.pyplot as plt\n",
    "import re  "
   ]
  },
  {
   "cell_type": "code",
   "execution_count": 25,
   "id": "4eebc59e",
   "metadata": {},
   "outputs": [
    {
     "name": "stdout",
     "output_type": "stream",
     "text": [
      "Requete effectuée avec succès\n"
     ]
    }
   ],
   "source": [
    "url=\"https://fr.wikipedia.org/wiki/Wikip%C3%A9dia:Le_saviez-vous_%3F/Archives/2017\"\n",
    "response = requests.get(url)\n",
    "\n",
    "if response.status_code == 200:\n",
    "    print(\"Requete effectuée avec succès\")\n",
    "else:\n",
    "    print(\"Erreur lors de la requete\")"
   ]
  },
  {
   "cell_type": "markdown",
   "id": "e159eec5",
   "metadata": {},
   "source": [
    "## Trouver la première citation"
   ]
  },
  {
   "cell_type": "code",
   "execution_count": 26,
   "id": "232c10a4",
   "metadata": {},
   "outputs": [],
   "source": [
    "soup = BeautifulSoup(response.text, 'html.parser')\n",
    "# Cibler uniquement la section body pour ne pas prendre en considerations les li du menu\n",
    "content_div = soup.find(\"div\", id=\"bodyContent\")\n",
    "premiere_citation = content_div.find(\"li\")"
   ]
  },
  {
   "cell_type": "code",
   "execution_count": 32,
   "id": "39457cd4",
   "metadata": {},
   "outputs": [
    {
     "name": "stdout",
     "output_type": "stream",
     "text": [
      "Premier tome de laRevue des deux Mondes, août 1829.Créée en1829, laRevue des deux Mondes(reproduction)est réputée pour être la plus vieillerevueeuropéenneencore en activité.\n"
     ]
    }
   ],
   "source": [
    "if premiere_citation:\n",
    "    print(premiere_citation.get_text(strip=True))\n",
    "else:\n",
    "    print(\"Aucune citation trouvée.\")"
   ]
  },
  {
   "cell_type": "markdown",
   "id": "c49f85b5",
   "metadata": {},
   "source": [
    "## Extraire la date"
   ]
  },
  {
   "cell_type": "code",
   "execution_count": 39,
   "id": "be826aae",
   "metadata": {},
   "outputs": [],
   "source": [
    "def parse_archive(year):\n",
    "    url = f\"https://fr.wikipedia.org/wiki/Wikip%C3%A9dia:Le_saviez-vous_%3F/Archives/{year}\"\n",
    "    response = requests.get(url)\n",
    "    if response.status_code != 200:\n",
    "        print(f\"Erreur lors de la requête pour l'année {year}\")\n",
    "        return []\n",
    "    \n",
    "    soup = BeautifulSoup(response.text, 'html.parser')\n",
    "    \n",
    "    content_div = soup.find(\"div\", id=\"bodyContent\")\n",
    "    quotes_ul = content_div.find(\"ul\")\n",
    "    li_elements = quotes_ul.find_all(\"li\")\n",
    "    \n",
    "    # Expression régulière pour extraire la date au format \"du 30 décembre 2016\"\n",
    "    # On utilise re.IGNORECASE pour autoriser les majuscules/minuscules\n",
    "    pattern = re.compile(r\"du\\s*(\\d{1,2}\\s+[a-z]+\\s+\\d{4})\", re.IGNORECASE)\n",
    "    \n",
    "    data = []\n",
    "    for li in li_elements:\n",
    "        date_str = None\n",
    "        date_standard = None\n",
    "\n",
    "        #extraction de la date via la structure <dl><dd><small>\n",
    "        small_tag = li.select_one(\"dl dd small\")\n",
    "        if small_tag:\n",
    "            # Normalisation du texte (pour éliminer les espaces)\n",
    "            small_text = \" \".join(small_tag.get_text(strip=True).split())\n",
    "            match = pattern.search(small_text)\n",
    "            if match:\n",
    "                date_str = match.group(1)  \n",
    "                parsed_date = dateparser.parse(date_str, languages=['fr'])\n",
    "                if parsed_date:\n",
    "                    date_standard = parsed_date.strftime(\"%Y-%m-%d\")\n",
    "        else:\n",
    "            #certains articles n'ont pas de balise <dl>, ils ont la date dans une balise <time>\n",
    "            time_tag = li.find(\"time\")\n",
    "            if time_tag:\n",
    "                if time_tag.has_attr(\"datetime\"):\n",
    "                    datetime_value = time_tag[\"datetime\"]\n",
    "                    parsed_date = dateparser.parse(datetime_value)\n",
    "                    if parsed_date:\n",
    "                        date_standard = parsed_date.strftime(\"%Y-%m-%d\")\n",
    "                else:\n",
    "                    date_str = time_tag.get_text(strip=True)\n",
    "                    parsed_date = dateparser.parse(date_str, languages=['fr'])\n",
    "                    if parsed_date:\n",
    "                        date_standard = parsed_date.strftime(\"%Y-%m-%d\")\n",
    "        \n",
    "        #isoler le texte de la quote\n",
    "        dl_tag = li.find(\"dl\")\n",
    "        if dl_tag:\n",
    "            dl_tag.decompose() #supprimer la balise dl \n",
    "\n",
    "        quote_text = li.get_text(strip=True) \n",
    "        \n",
    "        data.append({\n",
    "            'year': year,\n",
    "            'date': date_standard,\n",
    "            'quote': quote_text\n",
    "        })\n",
    "    return data\n"
   ]
  },
  {
   "cell_type": "markdown",
   "id": "41cf4b2f",
   "metadata": {},
   "source": [
    "_Parsing 2017_ :"
   ]
  },
  {
   "cell_type": "code",
   "execution_count": 41,
   "id": "91182fe1",
   "metadata": {},
   "outputs": [
    {
     "name": "stdout",
     "output_type": "stream",
     "text": [
      "DataFrame pour l'année 2017 :\n",
      "     year        date                                              quote\n",
      "0    2017        None  Premier tome de laRevue des deux Mondes, août ...\n",
      "1    2017        None  EnSuède, les règles d’usage dututoiement et du...\n",
      "2    2017        None  Une Citroën 2 CV au Mondial de l’automobile de...\n",
      "3    2017        None  Endécembre 1916, ayant découvert que la densit...\n",
      "4    2017  2017-01-01  Pays ayant signé (en jaune) et ceux ayant sign...\n",
      "..    ...         ...                                                ...\n",
      "851  2017        None  Victor-EmmanuelIII, roi d’Italie.Victor-Emmanu...\n",
      "852  2017        None  Comprimés de Sildénafil.Lecitrate de sildénafi...\n",
      "853  2017        None  Desbateauxcapables de naviguer sanséquipageson...\n",
      "854  2017        None  Le phare de Gatteville.Lephare de Gatteville(p...\n",
      "855  2017        None  Le nombre decommunes suédoisesa baissé de 87 %...\n",
      "\n",
      "[856 rows x 3 columns]\n"
     ]
    }
   ],
   "source": [
    "data_2017 = parse_archive(2017)\n",
    "df_2017 = pd.DataFrame(data_2017, columns=['year', 'date', 'quote'])\n",
    "print(\"DataFrame pour l'année 2017 :\")\n",
    "print(df_2017)"
   ]
  },
  {
   "cell_type": "markdown",
   "id": "089010f9",
   "metadata": {},
   "source": [
    "_Parsing 2021_ :"
   ]
  },
  {
   "cell_type": "code",
   "execution_count": 42,
   "id": "5158be68",
   "metadata": {},
   "outputs": [
    {
     "name": "stdout",
     "output_type": "stream",
     "text": [
      "DataFrame pour l'année 2021 :\n",
      "     year        date                                              quote\n",
      "0    2021  2021-01-01  Affiche de la première mondiale deRigoletto(11...\n",
      "1    2021  2021-01-01          Aupays des kiwis, la France se nommeWīwī.\n",
      "2    2021  2021-01-01  La Rue Mosnier aux drapeauxd’Édouard Manet.La ...\n",
      "3    2021  2021-01-02  Jean Valjean par Gustave Brion.L’astéroïde(246...\n",
      "4    2021  2021-01-03  L’hôtel de Matignon.D’abordhôtel particulier, ...\n",
      "..    ...         ...                                                ...\n",
      "895  2021        None  LaNew Riverest probablement l’une des plus anc...\n",
      "896  2021        None  LaBelgiqueest le seul pays non-membre duCommon...\n",
      "897  2021        None  Logo du film Nosferatu le vampire.Malgré les n...\n",
      "898  2021        None  Gâteaux de riz gluant : mochi.Au Japon, la con...\n",
      "899  2021        None  Si lesnatures mortesdePaul Cézannecontiennent ...\n",
      "\n",
      "[900 rows x 3 columns]\n"
     ]
    }
   ],
   "source": [
    "data_2021 = parse_archive(2021)\n",
    "df_2021 = pd.DataFrame(data_2021, columns=['year', 'date', 'quote'])\n",
    "print(\"DataFrame pour l'année 2021 :\")\n",
    "print(df_2021)"
   ]
  },
  {
   "cell_type": "markdown",
   "id": "d20d41e3",
   "metadata": {},
   "source": [
    "_Parsing 2017 to 2020_ :"
   ]
  },
  {
   "cell_type": "code",
   "execution_count": 43,
   "id": "cbfb72e3",
   "metadata": {},
   "outputs": [
    {
     "name": "stdout",
     "output_type": "stream",
     "text": [
      "\n",
      "Parsé l'année 2017-2020 :\n",
      "      year        date                                              quote\n",
      "0     2017        None  Premier tome de laRevue des deux Mondes, août ...\n",
      "1     2017        None  EnSuède, les règles d’usage dututoiement et du...\n",
      "2     2017        None  Une Citroën 2 CV au Mondial de l’automobile de...\n",
      "3     2017        None  Endécembre 1916, ayant découvert que la densit...\n",
      "4     2017  2017-01-01  Pays ayant signé (en jaune) et ceux ayant sign...\n",
      "...    ...         ...                                                ...\n",
      "4125  2020        None  L’année de la sortie d’À bout de souffle, film...\n",
      "4126  2020        None  Heinrich Schütz,Musikalische Exequien, Motette...\n",
      "4127  2020        None  Dans lecalendrier cosmique de Carl Sagan, l’Hi...\n",
      "4128  2020        None  un koala & feuilles d’eucalyptus.L’augmentatio...\n",
      "4129  2020        None  Bouteilles de champagne sans ou avec millésime...\n",
      "\n",
      "[4130 rows x 3 columns]\n"
     ]
    }
   ],
   "source": [
    "data_2017_2020 = []\n",
    "for y in range(2017, 2021):\n",
    "    data_2017_2020.extend(parse_archive(y))\n",
    "\n",
    "df_2017_2020 = pd.DataFrame(data_2017_2020, columns=['year', 'date', 'quote'])\n",
    "print()\n",
    "print(\"Parsé l'année 2017-2020 :\")\n",
    "print(df_2017_2020)"
   ]
  },
  {
   "cell_type": "markdown",
   "id": "13729599",
   "metadata": {},
   "source": [
    "_DF Transformations_:"
   ]
  },
  {
   "cell_type": "code",
   "execution_count": 46,
   "id": "e3d188eb",
   "metadata": {},
   "outputs": [
    {
     "name": "stdout",
     "output_type": "stream",
     "text": [
      "        date                                              quote  month    year\n",
      "0        NaT  Premier tome de laRevue des deux Mondes, août ...    NaN     NaN\n",
      "1        NaT  EnSuède, les règles d’usage dututoiement et du...    NaN     NaN\n",
      "2        NaT  Une Citroën 2 CV au Mondial de l’automobile de...    NaN     NaN\n",
      "3        NaT  Endécembre 1916, ayant découvert que la densit...    NaN     NaN\n",
      "4 2017-01-01  Pays ayant signé (en jaune) et ceux ayant sign...    1.0  2017.0\n"
     ]
    }
   ],
   "source": [
    "df_2017_2020 = df_2017_2020.drop(columns=['year'])\n",
    "df_2017_2020['date'] = pd.to_datetime(df_2017_2020['date'], errors='coerce')\n",
    "\n",
    "df_2017_2020['year'] = df_2017_2020['date'].dt.year\n",
    "df_2017_2020['month'] = df_2017_2020['date'].dt.month\n",
    "\n",
    "# Affichage du DataFrame transformé\n",
    "print(df_2017_2020.head())"
   ]
  },
  {
   "cell_type": "markdown",
   "id": "b2e47d05",
   "metadata": {},
   "source": [
    "_Exporting DataFrame to csv_:"
   ]
  },
  {
   "cell_type": "code",
   "execution_count": 50,
   "id": "d79059f6",
   "metadata": {},
   "outputs": [],
   "source": [
    "import os\n",
    "\n",
    "output_dir = \"C:/Users/pc/Desktop/Projet1/Tp1/Data\"\n",
    "os.makedirs(output_dir, exist_ok=True)\n",
    "output_file = os.path.join(output_dir, \"Wikiquotes.csv\")\n",
    "df_2017_2020.to_csv(output_file, sep=\";\", index=False)"
   ]
  },
  {
   "cell_type": "markdown",
   "id": "d2d8fa64",
   "metadata": {},
   "source": [
    "_Statistics_ :"
   ]
  },
  {
   "cell_type": "code",
   "execution_count": 53,
   "id": "a57d4135",
   "metadata": {},
   "outputs": [],
   "source": [
    "df = pd.read_csv(\"C:/Users/pc/Desktop/Projet1/Tp1/Data/Wikiquotes.csv\", sep=\";\")"
   ]
  },
  {
   "cell_type": "markdown",
   "id": "5dc61437",
   "metadata": {},
   "source": [
    "## 1. Lignes avec des champs vides"
   ]
  },
  {
   "cell_type": "code",
   "execution_count": 54,
   "id": "1fddfe69",
   "metadata": {},
   "outputs": [
    {
     "name": "stdout",
     "output_type": "stream",
     "text": [
      "Nombre de lignes avec au moins un champ vide : 1026\n"
     ]
    }
   ],
   "source": [
    "empty_rows = df.isnull().any(axis=1)\n",
    "nb_empty = empty_rows.sum()\n",
    "print(\"Nombre de lignes avec au moins un champ vide :\", nb_empty)"
   ]
  },
  {
   "cell_type": "markdown",
   "id": "d72e5a9a",
   "metadata": {},
   "source": [
    "## # 2. Année contenant le plus de quotes"
   ]
  },
  {
   "cell_type": "code",
   "execution_count": null,
   "id": "fc823e34",
   "metadata": {},
   "outputs": [
    {
     "name": "stdout",
     "output_type": "stream",
     "text": [
      "L'année contenant le plus de quotes est 2018.0 avec 968 quotes.\n"
     ]
    }
   ],
   "source": [
    "year_counts = df['year'].value_counts(dropna=True)\n",
    "max_year = year_counts.idxmax()\n",
    "max_count = year_counts.max()\n",
    "print(f\"L'année contenant le plus de quotes est {max_year} avec {max_count} quotes.\")"
   ]
  },
  {
   "cell_type": "markdown",
   "id": "cf157e5d",
   "metadata": {},
   "source": [
    "## 3. Année contenant le moins de quotes"
   ]
  },
  {
   "cell_type": "code",
   "execution_count": 56,
   "id": "d9e77ec5",
   "metadata": {},
   "outputs": [
    {
     "name": "stdout",
     "output_type": "stream",
     "text": [
      "L'année contenant le moins de quotes est 2019.0 avec 567 quotes.\n"
     ]
    }
   ],
   "source": [
    "min_year = year_counts.idxmin()\n",
    "min_count = year_counts.min()\n",
    "print(f\"L'année contenant le moins de quotes est {min_year} avec {min_count} quotes.\")"
   ]
  },
  {
   "cell_type": "markdown",
   "id": "c162a982",
   "metadata": {},
   "source": [
    "## 4. La quote la plus longue (en nombre de caractères)"
   ]
  },
  {
   "cell_type": "code",
   "execution_count": 57,
   "id": "94e1ef4c",
   "metadata": {},
   "outputs": [
    {
     "name": "stdout",
     "output_type": "stream",
     "text": [
      "La quote la plus longue est :\n",
      "Vue aérienne duZambèze, à la jonction entre :- laNamibieen haut à gauche, entre le Zambèze et son affluent leKwandoconstitue la pointe de labande de Caprivi,- laZambie, en haut, au delà du Zambèze, on aperçoit sur la rive du fleuve le faubourg deKazungula,- leZimbabween bas à droite avec l’île et une partie de la rive sud du Zambèze,- leBotswanaen bas à gauche, sur la partie droite de la rive. On distingue au fond le tracé de la route reliant Kasane au ferry menant à Kazungula.Lesfrontièresentre leBotswana, laZambie, laNamibieet leZimbabweconvergent en un quasi-quadripointsur le fleuveZambèze(vue aérienne).BALISE APPARIEE:FIN-BLOC\n",
      "Nombre de caractères : 638\n"
     ]
    }
   ],
   "source": [
    "df['quote_length'] = df['quote'].str.len()\n",
    "idx_longest = df['quote_length'].idxmax()\n",
    "longest_quote = df.loc[idx_longest, 'quote']\n",
    "longest_length = df.loc[idx_longest, 'quote_length']\n",
    "print(\"La quote la plus longue est :\")\n",
    "print(longest_quote)\n",
    "print(\"Nombre de caractères :\", longest_length)"
   ]
  },
  {
   "cell_type": "markdown",
   "id": "e1b2db28",
   "metadata": {},
   "source": [
    "## 5. La quote la plus courte (en nombre de caractères)"
   ]
  },
  {
   "cell_type": "code",
   "execution_count": 58,
   "id": "9538a52c",
   "metadata": {},
   "outputs": [
    {
     "name": "stdout",
     "output_type": "stream",
     "text": [
      "La quote la plus courte est :\n",
      "actuellement\n",
      "Nombre de caractères : 12\n"
     ]
    }
   ],
   "source": [
    "idx_shortest = df['quote_length'].idxmin()\n",
    "shortest_quote = df.loc[idx_shortest, 'quote']\n",
    "shortest_length = df.loc[idx_shortest, 'quote_length']\n",
    "print(\"La quote la plus courte est :\")\n",
    "print(shortest_quote)\n",
    "print(\"Nombre de caractères :\", shortest_length)"
   ]
  },
  {
   "cell_type": "markdown",
   "id": "276a2e10",
   "metadata": {},
   "source": [
    "## 6. Combien de quotes contiennent \"Victor Hugo\""
   ]
  },
  {
   "cell_type": "code",
   "execution_count": 59,
   "id": "29415470",
   "metadata": {},
   "outputs": [
    {
     "name": "stdout",
     "output_type": "stream",
     "text": [
      "Nombre de quotes contenant 'Victor Hugo' : 12\n"
     ]
    }
   ],
   "source": [
    "victor_hugo_count = df['quote'].str.contains('Victor Hugo', case=False, na=False).sum()\n",
    "print(\"Nombre de quotes contenant 'Victor Hugo' :\", victor_hugo_count)"
   ]
  },
  {
   "cell_type": "markdown",
   "id": "c6edd2d6",
   "metadata": {},
   "source": [
    "## 7. Quelle quote parle de Pokémon ?"
   ]
  },
  {
   "cell_type": "code",
   "execution_count": 60,
   "id": "1a472b15",
   "metadata": {},
   "outputs": [
    {
     "name": "stdout",
     "output_type": "stream",
     "text": [
      "La quote qui parle de Pokémon est :\n",
      "\n",
      " Enmars 2017, un jeuneRussea été condamné à 3 ans et demi decolonie pénitentiairepour avoir joué àPokémon Godans uneéglise.\n"
     ]
    }
   ],
   "source": [
    "pokemon_quotes = df[df['quote'].str.contains(r'pok[eé]mon', case=False, na=False)]\n",
    "if not pokemon_quotes.empty:\n",
    "    print(\"La quote qui parle de Pokémon est :\")\n",
    "    for quote in pokemon_quotes['quote']:\n",
    "        print(\"\\n\", quote)\n",
    "else:\n",
    "    print(\"Aucune quote ne semble parler de Pokémon.\")"
   ]
  },
  {
   "cell_type": "markdown",
   "id": "333ff249",
   "metadata": {},
   "source": [
    "_Visualisation_ :"
   ]
  },
  {
   "cell_type": "code",
   "execution_count": 64,
   "id": "01b93fa9",
   "metadata": {},
   "outputs": [
    {
     "name": "stderr",
     "output_type": "stream",
     "text": [
      "[nltk_data] Downloading package stopwords to\n",
      "[nltk_data]     C:\\Users\\pc\\AppData\\Roaming\\nltk_data...\n",
      "[nltk_data]   Package stopwords is already up-to-date!\n"
     ]
    }
   ],
   "source": [
    "## Nettoyage des données\n",
    "from collections import Counter\n",
    "import nltk\n",
    "nltk.download('stopwords')\n",
    "from nltk.corpus import stopwords\n",
    "\n",
    "# On s'assure que la colonne 'quote' ne contient pas de valeurs manquantes\n",
    "df['quote'] = df['quote'].fillna(\"\")\n",
    "\n",
    "#Top 20 des mots fréquents\n",
    "# Combinez toutes les citations en un seul texte\n",
    "all_text = \" \".join(df['quote'].tolist())\n",
    "\n",
    "# Convertir en minuscule\n",
    "all_text = all_text.lower()\n",
    "\n",
    "# Supprimer la ponctuation (on garde les mots et les espaces)\n",
    "all_text = re.sub(r'[^\\w\\s]', '', all_text)\n",
    "\n",
    "# Découper en mots\n",
    "words = all_text.split()\n",
    "\n",
    "# Récupérer la liste des stopwords en français\n",
    "stop_words = set(stopwords.words('french'))\n",
    "\n",
    "# Filtrer les mots : on enlève les stopwords et les mots d'une seule lettre (souvent non pertinents)\n",
    "filtered_words = [w for w in words if w not in stop_words and len(w) > 1]\n",
    "\n",
    "# Compter les occurrences de chaque mot\n",
    "word_counts = Counter(filtered_words)\n",
    "\n",
    "# Récupérer les 20 mots les plus fréquents\n",
    "top_20 = word_counts.most_common(20)\n",
    "\n",
    "# Extraire les mots et leurs comptes dans des listes séparées pour le graphique\n",
    "mots_top = [item[0] for item in top_20]\n",
    "comptes_top = [item[1] for item in top_20]"
   ]
  },
  {
   "cell_type": "markdown",
   "id": "a22ff45d",
   "metadata": {},
   "source": [
    "## Visualiser le top 20 sous forme d'un diagramme en barres"
   ]
  },
  {
   "cell_type": "code",
   "execution_count": 65,
   "id": "64e89d21",
   "metadata": {},
   "outputs": [
    {
     "data": {
      "image/png": "[encoded data removed]",
      "text/plain": [
       "<Figure size 1200x600 with 1 Axes>"
      ]
     },
     "metadata": {},
     "output_type": "display_data"
    }
   ],
   "source": [
    "plt.figure(figsize=(12,6))\n",
    "plt.bar(mots_top, comptes_top, color='skyblue')\n",
    "plt.title(\"Top 20 des mots les plus fréquents\")\n",
    "plt.xlabel(\"Mots\")\n",
    "plt.ylabel(\"Fréquence\")\n",
    "plt.xticks(rotation=45)\n",
    "plt.tight_layout()\n",
    "plt.show()"
   ]
  },
  {
   "cell_type": "markdown",
   "id": "1d4cc06f",
   "metadata": {},
   "source": [
    "## Nombre de citations par année"
   ]
  },
  {
   "cell_type": "code",
   "execution_count": 66,
   "id": "1a644003",
   "metadata": {},
   "outputs": [
    {
     "data": {
      "image/png": "[encoded data removed]",
      "text/plain": [
       "<Figure size 1000x600 with 1 Axes>"
      ]
     },
     "metadata": {},
     "output_type": "display_data"
    }
   ],
   "source": [
    "df_year = df.dropna(subset=['year']).copy()\n",
    "\n",
    "# On s'assure que la colonne 'year' est de type entier (car parfois c'est float)\n",
    "df_year['year'] = df_year['year'].astype(int)\n",
    "\n",
    "# Calculer le nombre de citations par année\n",
    "quotes_per_year = df_year['year'].value_counts().sort_index()\n",
    "\n",
    "# Visualisation avec un diagramme en barres\n",
    "plt.figure(figsize=(10,6))\n",
    "quotes_per_year.plot(kind='bar', color='salmon')\n",
    "plt.title(\"Nombre de citations par année\")\n",
    "plt.xlabel(\"Année\")\n",
    "plt.ylabel(\"Nombre de citations\")\n",
    "plt.xticks(rotation=45)\n",
    "plt.tight_layout()\n",
    "plt.show()"
   ]
  }
 ],
 "metadata": {
  "kernelspec": {
   "display_name": "venv",
   "language": "python",
   "name": "python3"
  },
  "language_info": {
   "codemirror_mode": {
    "name": "ipython",
    "version": 3
   },
   "file_extension": ".py",
   "mimetype": "text/x-python",
   "name": "python",
   "nbconvert_exporter": "python",
   "pygments_lexer": "ipython3",
   "version": "3.11.6"
  }
 },
 "nbformat": 4,
 "nbformat_minor": 5
}
